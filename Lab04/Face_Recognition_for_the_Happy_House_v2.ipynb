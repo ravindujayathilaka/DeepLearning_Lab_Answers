{
  "cells": [
    {
      "cell_type": "markdown",
      "metadata": {
        "id": "LuA-4GIPekX2"
      },
      "source": [
        "# Face Recognition for the Happy House\n",
        "\n",
        "Welcome to the first assignment of week 4! Here you will build a face recognition system. Many of the ideas presented here are from [FaceNet](https://arxiv.org/pdf/1503.03832.pdf). In lecture, we also talked about [DeepFace](https://research.fb.com/wp-content/uploads/2016/11/deepface-closing-the-gap-to-human-level-performance-in-face-verification.pdf).\n",
        "\n",
        "Face recognition problems commonly fall into two categories:\n",
        "\n",
        "- **Face Verification** - \"is this the claimed person?\". For example, at some airports, you can pass through customs by letting a system scan your passport and then verifying that you (the person carrying the passport) are the correct person. A mobile phone that unlocks using your face is also using face verification. This is a 1:1 matching problem.\n",
        "- **Face Recognition** - \"who is this person?\". For example, the video lecture showed a face recognition video (https://www.youtube.com/watch?v=wr4rx0Spihs) of Baidu employees entering the office without needing to otherwise identify themselves. This is a 1:K matching problem.\n",
        "\n",
        "FaceNet learns a neural network that encodes a face image into a vector of 128 numbers. By comparing two such vectors, you can then determine if two pictures are of the same person.\n",
        "    \n",
        "**In this assignment, you will:**\n",
        "- Implement the triplet loss function\n",
        "- Use a pretrained model to map face images into 128-dimensional encodings\n",
        "- Use these encodings to perform face verification and face recognition\n",
        "\n",
        "In this exercise, we will be using a pre-trained model which represents ConvNet activations using a \"channels first\" convention, as opposed to the \"channels last\" convention used in lecture and previous programming assignments. In other words, a batch of images will be of shape $(m, n_C, n_H, n_W)$ instead of $(m, n_H, n_W, n_C)$. Both of these conventions have a reasonable amount of traction among open-source implementations; there isn't a uniform standard yet within the deep learning community.\n",
        "\n",
        "Let's load the required packages.\n"
      ]
    },
    {
      "cell_type": "code",
      "execution_count": 15,
      "metadata": {
        "colab": {
          "base_uri": "https://localhost:8080/"
        },
        "id": "-DFr5cHPyBKq",
        "outputId": "8a87a0e7-ffa0-4632-8224-f761f4644f2e"
      },
      "outputs": [
        {
          "output_type": "stream",
          "name": "stdout",
          "text": [
            "Colab only includes TensorFlow 2.x; %tensorflow_version has no effect.\n",
            "Archive:  weights.zip\n",
            "replace weights/bn1_b.csv? [y]es, [n]o, [A]ll, [N]one, [r]ename: A\n",
            "  inflating: weights/bn1_b.csv       \n",
            "  inflating: weights/bn1_m.csv       \n",
            "  inflating: weights/bn1_v.csv       \n",
            "  inflating: weights/bn1_w.csv       \n",
            "  inflating: weights/bn2_b.csv       \n",
            "  inflating: weights/bn2_m.csv       \n",
            "  inflating: weights/bn2_v.csv       \n",
            "  inflating: weights/bn2_w.csv       \n",
            "  inflating: weights/bn3_b.csv       \n",
            "  inflating: weights/bn3_m.csv       \n",
            "  inflating: weights/bn3_v.csv       \n",
            "  inflating: weights/bn3_w.csv       \n",
            "  inflating: weights/conv1_b.csv     \n",
            "  inflating: weights/conv1_w.csv     \n",
            "  inflating: weights/conv2_b.csv     \n",
            "  inflating: weights/conv2_w.csv     \n",
            "  inflating: weights/conv3_b.csv     \n",
            "  inflating: weights/conv3_w.csv     \n",
            "  inflating: weights/dense_b.csv     \n",
            "  inflating: weights/dense_w.csv     \n",
            "  inflating: weights/inception_3a_1x1_bn_b.csv  \n",
            "  inflating: weights/inception_3a_1x1_bn_m.csv  \n",
            "  inflating: weights/inception_3a_1x1_bn_v.csv  \n",
            "  inflating: weights/inception_3a_1x1_bn_w.csv  \n",
            "  inflating: weights/inception_3a_1x1_conv_b.csv  \n",
            "  inflating: weights/inception_3a_1x1_conv_w.csv  \n",
            "  inflating: weights/inception_3a_3x3_bn1_b.csv  \n",
            "  inflating: weights/inception_3a_3x3_bn1_m.csv  \n",
            "  inflating: weights/inception_3a_3x3_bn1_v.csv  \n",
            "  inflating: weights/inception_3a_3x3_bn1_w.csv  \n",
            "  inflating: weights/inception_3a_3x3_bn2_b.csv  \n",
            "  inflating: weights/inception_3a_3x3_bn2_m.csv  \n",
            "  inflating: weights/inception_3a_3x3_bn2_v.csv  \n",
            "  inflating: weights/inception_3a_3x3_bn2_w.csv  \n",
            "  inflating: weights/inception_3a_3x3_conv1_b.csv  \n",
            "  inflating: weights/inception_3a_3x3_conv1_w.csv  \n",
            "  inflating: weights/inception_3a_3x3_conv2_b.csv  \n",
            "  inflating: weights/inception_3a_3x3_conv2_w.csv  \n",
            "  inflating: weights/inception_3a_5x5_bn1_b.csv  \n",
            "  inflating: weights/inception_3a_5x5_bn1_m.csv  \n",
            "  inflating: weights/inception_3a_5x5_bn1_v.csv  \n",
            "  inflating: weights/inception_3a_5x5_bn1_w.csv  \n",
            "  inflating: weights/inception_3a_5x5_bn2_b.csv  \n",
            "  inflating: weights/inception_3a_5x5_bn2_m.csv  \n",
            "  inflating: weights/inception_3a_5x5_bn2_v.csv  \n",
            "  inflating: weights/inception_3a_5x5_bn2_w.csv  \n",
            "  inflating: weights/inception_3a_5x5_conv1_b.csv  \n",
            "  inflating: weights/inception_3a_5x5_conv1_w.csv  \n",
            "  inflating: weights/inception_3a_5x5_conv2_b.csv  \n",
            "  inflating: weights/inception_3a_5x5_conv2_w.csv  \n",
            "  inflating: weights/inception_3a_pool_bn_b.csv  \n",
            "  inflating: weights/inception_3a_pool_bn_m.csv  \n",
            "  inflating: weights/inception_3a_pool_bn_v.csv  \n",
            "  inflating: weights/inception_3a_pool_bn_w.csv  \n",
            "  inflating: weights/inception_3a_pool_conv_b.csv  \n",
            "  inflating: weights/inception_3a_pool_conv_w.csv  \n",
            "  inflating: weights/inception_3b_1x1_bn_b.csv  \n",
            "  inflating: weights/inception_3b_1x1_bn_m.csv  \n",
            "  inflating: weights/inception_3b_1x1_bn_v.csv  \n",
            "  inflating: weights/inception_3b_1x1_bn_w.csv  \n",
            "  inflating: weights/inception_3b_1x1_conv_b.csv  \n",
            "  inflating: weights/inception_3b_1x1_conv_w.csv  \n",
            "  inflating: weights/inception_3b_3x3_bn1_b.csv  \n",
            "  inflating: weights/inception_3b_3x3_bn1_m.csv  \n",
            "  inflating: weights/inception_3b_3x3_bn1_v.csv  \n",
            "  inflating: weights/inception_3b_3x3_bn1_w.csv  \n",
            "  inflating: weights/inception_3b_3x3_bn2_b.csv  \n",
            "  inflating: weights/inception_3b_3x3_bn2_m.csv  \n",
            "  inflating: weights/inception_3b_3x3_bn2_v.csv  \n",
            "  inflating: weights/inception_3b_3x3_bn2_w.csv  \n",
            "  inflating: weights/inception_3b_3x3_conv1_b.csv  \n",
            "  inflating: weights/inception_3b_3x3_conv1_w.csv  \n",
            "  inflating: weights/inception_3b_3x3_conv2_b.csv  \n",
            "  inflating: weights/inception_3b_3x3_conv2_w.csv  \n",
            "  inflating: weights/inception_3b_5x5_bn1_b.csv  \n",
            "  inflating: weights/inception_3b_5x5_bn1_m.csv  \n",
            "  inflating: weights/inception_3b_5x5_bn1_v.csv  \n",
            "  inflating: weights/inception_3b_5x5_bn1_w.csv  \n",
            "  inflating: weights/inception_3b_5x5_bn2_b.csv  \n",
            "  inflating: weights/inception_3b_5x5_bn2_m.csv  \n",
            "  inflating: weights/inception_3b_5x5_bn2_v.csv  \n",
            "  inflating: weights/inception_3b_5x5_bn2_w.csv  \n",
            "  inflating: weights/inception_3b_5x5_conv1_b.csv  \n",
            "  inflating: weights/inception_3b_5x5_conv1_w.csv  \n",
            "  inflating: weights/inception_3b_5x5_conv2_b.csv  \n",
            "  inflating: weights/inception_3b_5x5_conv2_w.csv  \n",
            "  inflating: weights/inception_3b_pool_bn_b.csv  \n",
            "  inflating: weights/inception_3b_pool_bn_m.csv  \n",
            "  inflating: weights/inception_3b_pool_bn_v.csv  \n",
            "  inflating: weights/inception_3b_pool_bn_w.csv  \n",
            "  inflating: weights/inception_3b_pool_conv_b.csv  \n",
            "  inflating: weights/inception_3b_pool_conv_w.csv  \n",
            "  inflating: weights/inception_3c_3x3_bn1_b.csv  \n",
            "  inflating: weights/inception_3c_3x3_bn1_m.csv  \n",
            "  inflating: weights/inception_3c_3x3_bn1_v.csv  \n",
            "  inflating: weights/inception_3c_3x3_bn1_w.csv  \n",
            "  inflating: weights/inception_3c_3x3_bn2_b.csv  \n",
            "  inflating: weights/inception_3c_3x3_bn2_m.csv  \n",
            "  inflating: weights/inception_3c_3x3_bn2_v.csv  \n",
            "  inflating: weights/inception_3c_3x3_bn2_w.csv  \n",
            "  inflating: weights/inception_3c_3x3_conv1_b.csv  \n",
            "  inflating: weights/inception_3c_3x3_conv1_w.csv  \n",
            "  inflating: weights/inception_3c_3x3_conv2_b.csv  \n",
            "  inflating: weights/inception_3c_3x3_conv2_w.csv  \n",
            "  inflating: weights/inception_3c_5x5_bn1_b.csv  \n",
            "  inflating: weights/inception_3c_5x5_bn1_m.csv  \n",
            "  inflating: weights/inception_3c_5x5_bn1_v.csv  \n",
            "  inflating: weights/inception_3c_5x5_bn1_w.csv  \n",
            "  inflating: weights/inception_3c_5x5_bn2_b.csv  \n",
            "  inflating: weights/inception_3c_5x5_bn2_m.csv  \n",
            "  inflating: weights/inception_3c_5x5_bn2_v.csv  \n",
            "  inflating: weights/inception_3c_5x5_bn2_w.csv  \n",
            "  inflating: weights/inception_3c_5x5_conv1_b.csv  \n",
            "  inflating: weights/inception_3c_5x5_conv1_w.csv  \n",
            "  inflating: weights/inception_3c_5x5_conv2_b.csv  \n",
            "  inflating: weights/inception_3c_5x5_conv2_w.csv  \n",
            "  inflating: weights/inception_4a_1x1_bn_b.csv  \n",
            "  inflating: weights/inception_4a_1x1_bn_m.csv  \n",
            "  inflating: weights/inception_4a_1x1_bn_v.csv  \n",
            "  inflating: weights/inception_4a_1x1_bn_w.csv  \n",
            "  inflating: weights/inception_4a_1x1_conv_b.csv  \n",
            "  inflating: weights/inception_4a_1x1_conv_w.csv  \n",
            "  inflating: weights/inception_4a_3x3_bn1_b.csv  \n",
            "  inflating: weights/inception_4a_3x3_bn1_m.csv  \n",
            "  inflating: weights/inception_4a_3x3_bn1_v.csv  \n",
            "  inflating: weights/inception_4a_3x3_bn1_w.csv  \n",
            "  inflating: weights/inception_4a_3x3_bn2_b.csv  \n",
            "  inflating: weights/inception_4a_3x3_bn2_m.csv  \n",
            "  inflating: weights/inception_4a_3x3_bn2_v.csv  \n",
            "  inflating: weights/inception_4a_3x3_bn2_w.csv  \n",
            "  inflating: weights/inception_4a_3x3_conv1_b.csv  \n",
            "  inflating: weights/inception_4a_3x3_conv1_w.csv  \n",
            "  inflating: weights/inception_4a_3x3_conv2_b.csv  \n",
            "  inflating: weights/inception_4a_3x3_conv2_w.csv  \n",
            "  inflating: weights/inception_4a_5x5_bn1_b.csv  \n",
            "  inflating: weights/inception_4a_5x5_bn1_m.csv  \n",
            "  inflating: weights/inception_4a_5x5_bn1_v.csv  \n",
            "  inflating: weights/inception_4a_5x5_bn1_w.csv  \n",
            "  inflating: weights/inception_4a_5x5_bn2_b.csv  \n",
            "  inflating: weights/inception_4a_5x5_bn2_m.csv  \n",
            "  inflating: weights/inception_4a_5x5_bn2_v.csv  \n",
            "  inflating: weights/inception_4a_5x5_bn2_w.csv  \n",
            "  inflating: weights/inception_4a_5x5_conv1_b.csv  \n",
            "  inflating: weights/inception_4a_5x5_conv1_w.csv  \n",
            "  inflating: weights/inception_4a_5x5_conv2_b.csv  \n",
            "  inflating: weights/inception_4a_5x5_conv2_w.csv  \n",
            "  inflating: weights/inception_4a_pool_bn_b.csv  \n",
            "  inflating: weights/inception_4a_pool_bn_m.csv  \n",
            "  inflating: weights/inception_4a_pool_bn_v.csv  \n",
            "  inflating: weights/inception_4a_pool_bn_w.csv  \n",
            "  inflating: weights/inception_4a_pool_conv_b.csv  \n",
            "  inflating: weights/inception_4a_pool_conv_w.csv  \n",
            "  inflating: weights/inception_4e_3x3_bn1_b.csv  \n",
            "  inflating: weights/inception_4e_3x3_bn1_m.csv  \n",
            "  inflating: weights/inception_4e_3x3_bn1_v.csv  \n",
            "  inflating: weights/inception_4e_3x3_bn1_w.csv  \n",
            "  inflating: weights/inception_4e_3x3_bn2_b.csv  \n",
            "  inflating: weights/inception_4e_3x3_bn2_m.csv  \n",
            "  inflating: weights/inception_4e_3x3_bn2_v.csv  \n",
            "  inflating: weights/inception_4e_3x3_bn2_w.csv  \n",
            "  inflating: weights/inception_4e_3x3_conv1_b.csv  \n",
            "  inflating: weights/inception_4e_3x3_conv1_w.csv  \n",
            "  inflating: weights/inception_4e_3x3_conv2_b.csv  \n",
            "  inflating: weights/inception_4e_3x3_conv2_w.csv  \n",
            "  inflating: weights/inception_4e_5x5_bn1_b.csv  \n",
            "  inflating: weights/inception_4e_5x5_bn1_m.csv  \n",
            "  inflating: weights/inception_4e_5x5_bn1_v.csv  \n",
            "  inflating: weights/inception_4e_5x5_bn1_w.csv  \n",
            "  inflating: weights/inception_4e_5x5_bn2_b.csv  \n",
            "  inflating: weights/inception_4e_5x5_bn2_m.csv  \n",
            "  inflating: weights/inception_4e_5x5_bn2_v.csv  \n",
            "  inflating: weights/inception_4e_5x5_bn2_w.csv  \n",
            "  inflating: weights/inception_4e_5x5_conv1_b.csv  \n",
            "  inflating: weights/inception_4e_5x5_conv1_w.csv  \n",
            "  inflating: weights/inception_4e_5x5_conv2_b.csv  \n",
            "  inflating: weights/inception_4e_5x5_conv2_w.csv  \n",
            "  inflating: weights/inception_5a_1x1_bn_b.csv  \n",
            "  inflating: weights/inception_5a_1x1_bn_m.csv  \n",
            "  inflating: weights/inception_5a_1x1_bn_v.csv  \n",
            "  inflating: weights/inception_5a_1x1_bn_w.csv  \n",
            "  inflating: weights/inception_5a_1x1_conv_b.csv  \n",
            "  inflating: weights/inception_5a_1x1_conv_w.csv  \n",
            "  inflating: weights/inception_5a_3x3_bn1_b.csv  \n",
            "  inflating: weights/inception_5a_3x3_bn1_m.csv  \n",
            "  inflating: weights/inception_5a_3x3_bn1_v.csv  \n",
            "  inflating: weights/inception_5a_3x3_bn1_w.csv  \n",
            "  inflating: weights/inception_5a_3x3_bn2_b.csv  \n",
            "  inflating: weights/inception_5a_3x3_bn2_m.csv  \n",
            "  inflating: weights/inception_5a_3x3_bn2_v.csv  \n",
            "  inflating: weights/inception_5a_3x3_bn2_w.csv  \n",
            "  inflating: weights/inception_5a_3x3_conv1_b.csv  \n",
            "  inflating: weights/inception_5a_3x3_conv1_w.csv  \n",
            "  inflating: weights/inception_5a_3x3_conv2_b.csv  \n",
            "  inflating: weights/inception_5a_3x3_conv2_m.csv  \n",
            "  inflating: weights/inception_5a_3x3_conv2_v.csv  \n",
            "  inflating: weights/inception_5a_3x3_conv2_w.csv  \n",
            "  inflating: weights/inception_5a_pool_bn_b.csv  \n",
            "  inflating: weights/inception_5a_pool_bn_m.csv  \n",
            "  inflating: weights/inception_5a_pool_bn_v.csv  \n",
            "  inflating: weights/inception_5a_pool_bn_w.csv  \n",
            "  inflating: weights/inception_5a_pool_conv_b.csv  \n",
            "  inflating: weights/inception_5a_pool_conv_w.csv  \n",
            "  inflating: weights/inception_5b_1x1_bn_b.csv  \n",
            "  inflating: weights/inception_5b_1x1_bn_m.csv  \n",
            "  inflating: weights/inception_5b_1x1_bn_v.csv  \n",
            "  inflating: weights/inception_5b_1x1_bn_w.csv  \n",
            "  inflating: weights/inception_5b_1x1_conv_b.csv  \n",
            "  inflating: weights/inception_5b_1x1_conv_w.csv  \n",
            "  inflating: weights/inception_5b_3x3_bn1_b.csv  \n",
            "  inflating: weights/inception_5b_3x3_bn1_m.csv  \n",
            "  inflating: weights/inception_5b_3x3_bn1_v.csv  \n",
            "  inflating: weights/inception_5b_3x3_bn1_w.csv  \n",
            "  inflating: weights/inception_5b_3x3_bn2_b.csv  \n",
            "  inflating: weights/inception_5b_3x3_bn2_m.csv  \n",
            "  inflating: weights/inception_5b_3x3_bn2_v.csv  \n",
            "  inflating: weights/inception_5b_3x3_bn2_w.csv  \n",
            "  inflating: weights/inception_5b_3x3_conv1_b.csv  \n",
            "  inflating: weights/inception_5b_3x3_conv1_w.csv  \n",
            "  inflating: weights/inception_5b_3x3_conv2_b.csv  \n",
            "  inflating: weights/inception_5b_3x3_conv2_w.csv  \n",
            "  inflating: weights/inception_5b_pool_bn_b.csv  \n",
            "  inflating: weights/inception_5b_pool_bn_m.csv  \n",
            "  inflating: weights/inception_5b_pool_bn_v.csv  \n",
            "  inflating: weights/inception_5b_pool_bn_w.csv  \n",
            "  inflating: weights/inception_5b_pool_conv_b.csv  \n",
            "  inflating: weights/inception_5b_pool_conv_w.csv  \n"
          ]
        }
      ],
      "source": [
        "%tensorflow_version 2.x\n",
        "\n",
        "!unzip weights.zip\n"
      ]
    },
    {
      "cell_type": "code",
      "execution_count": 16,
      "metadata": {
        "id": "h06smg0Ef9RV"
      },
      "outputs": [],
      "source": [
        "# !pip install fr_utils"
      ]
    },
    {
      "cell_type": "code",
      "execution_count": 17,
      "metadata": {
        "colab": {
          "base_uri": "https://localhost:8080/"
        },
        "id": "A6SBtExrekX5",
        "outputId": "5c7e587f-8ab9-4660-81fd-1e82a14bea33"
      },
      "outputs": [
        {
          "output_type": "stream",
          "name": "stdout",
          "text": [
            "The autoreload extension is already loaded. To reload it, use:\n",
            "  %reload_ext autoreload\n",
            "2.12.0\n"
          ]
        }
      ],
      "source": [
        "\n",
        "from keras.models import Sequential\n",
        "from keras.layers import Conv2D, ZeroPadding2D, Activation, Input, concatenate\n",
        "from keras.models import Model\n",
        "# from keras.layers.normalization import BatchNormalization\n",
        "from tensorflow.keras.layers import BatchNormalization\n",
        "from keras.layers.pooling import MaxPooling2D, AveragePooling2D\n",
        "# from keras.layers.merge import Concatenate\n",
        "from tensorflow.keras.layers import concatenate\n",
        "from keras.layers.core import Lambda, Flatten, Dense\n",
        "from keras.initializers import glorot_uniform\n",
        "# from keras.engine.topology import Layer\n",
        "from tensorflow.keras.layers import Layer, InputSpec\n",
        "from keras import backend as K\n",
        "K.set_image_data_format('channels_first')\n",
        "import cv2\n",
        "import os\n",
        "import numpy as np\n",
        "from numpy import genfromtxt\n",
        "import pandas as pd\n",
        "import tensorflow as tf\n",
        "from fr_utils import *\n",
        "from inception_blocks_v2 import *\n",
        "\n",
        "%matplotlib inline\n",
        "%load_ext autoreload\n",
        "%autoreload 2\n",
        "\n",
        "import tensorflow\n",
        "print(tensorflow.__version__)\n",
        "\n",
        "# np.set_printoptions(threshold=np.nan)"
      ]
    },
    {
      "cell_type": "markdown",
      "metadata": {
        "id": "S_AfxbFdekYA"
      },
      "source": [
        "## 0 - Naive Face Verification\n",
        "\n",
        "In Face Verification, you're given two images and you have to tell if they are of the same person. The simplest way to do this is to compare the two images pixel-by-pixel. If the distance between the raw images are less than a chosen threshold, it may be the same person!\n",
        "\n",
        "<img src=\"//github.com/enggen/Deep-Learning-Coursera/raw/1407e19c98833d2686a0748db26b594f3102301e/Convolutional Neural Networks/Week4/Face Recognition/images/pixel_comparison.png\" style=\"width:380px;height:150px;\">\n",
        "<caption><center> <u> <font color='purple'> </u></center></caption>"
      ]
    },
    {
      "cell_type": "markdown",
      "metadata": {
        "collapsed": true,
        "id": "PGNZGVAlekYB"
      },
      "source": [
        "Of course, this algorithm performs really poorly, since the pixel values change dramatically due to variations in lighting, orientation of the person's face, even minor changes in head position, and so on.\n",
        "\n",
        "You'll see that rather than using the raw image, you can learn an encoding $f(img)$ so that element-wise comparisons of this encoding gives more accurate judgements as to whether two pictures are of the same person."
      ]
    },
    {
      "cell_type": "markdown",
      "metadata": {
        "id": "b67v8ii_ekYB"
      },
      "source": [
        "## 1 - Encoding face images into a 128-dimensional vector\n",
        "\n",
        "### 1.1 - Using an ConvNet  to compute encodings\n",
        "\n",
        "The FaceNet model takes a lot of data and a long time to train. So following common practice in applied deep learning settings, let's just load weights that someone else has already trained. The network architecture follows the Inception model from [Szegedy *et al.*](https://arxiv.org/abs/1409.4842). We have provided an inception network implementation. You can look in the file `inception_blocks.py` to see how it is implemented (do so by going to \"File->Open...\" at the top of the Jupyter notebook).  \n"
      ]
    },
    {
      "cell_type": "markdown",
      "metadata": {
        "id": "Pwk8QR0iekYC"
      },
      "source": [
        "The key things you need to know are:\n",
        "\n",
        "- This network uses 96x96 dimensional RGB images as its input. Specifically, inputs a face image (or batch of $m$ face images) as a tensor of shape $(m, n_C, n_H, n_W) = (m, 3, 96, 96)$\n",
        "- It outputs a matrix of shape $(m, 128)$ that encodes each input face image into a 128-dimensional vector\n",
        "\n",
        "Run the cell below to create the model for face images."
      ]
    },
    {
      "cell_type": "code",
      "execution_count": 18,
      "metadata": {
        "id": "rgh0TInJekYD"
      },
      "outputs": [],
      "source": [
        "FRmodel = faceRecoModel(input_shape=(3, 96, 96))"
      ]
    },
    {
      "cell_type": "code",
      "execution_count": 19,
      "metadata": {
        "colab": {
          "base_uri": "https://localhost:8080/"
        },
        "id": "QlKMPb6nekYG",
        "outputId": "1424b2de-7e07-4964-a4fa-d7737d1266ee"
      },
      "outputs": [
        {
          "output_type": "stream",
          "name": "stdout",
          "text": [
            "Total Params: 3743280\n"
          ]
        }
      ],
      "source": [
        "print(\"Total Params:\", FRmodel.count_params())"
      ]
    },
    {
      "cell_type": "markdown",
      "metadata": {
        "id": "U6g2zkTvekYJ"
      },
      "source": [
        "** Expected Output **\n",
        "<table>\n",
        "<center>\n",
        "Total Params: 3743280\n",
        "</center>\n",
        "</table>\n"
      ]
    },
    {
      "cell_type": "markdown",
      "metadata": {
        "id": "oue9ViX-ekYK"
      },
      "source": [
        "By using a 128-neuron fully connected layer as its last layer, the model ensures that the output is an encoding vector of size 128. You then use the encodings the compare two face images as follows:\n",
        "\n",
        "<img src=\"//github.com/enggen/Deep-Learning-Coursera/raw/1407e19c98833d2686a0748db26b594f3102301e/Convolutional Neural Networks/Week4/Face Recognition/images/distance_kiank.png\" style=\"width:680px;height:250px;\">\n",
        "<caption><center> <u> <font color='purple'>  <br> </u> <font color='purple'> By computing a distance between two encodings and thresholding, you can determine if the two pictures represent the same person</center></caption>\n",
        "\n",
        "So, an encoding is a good one if:\n",
        "- The encodings of two images of the same person are quite similar to each other\n",
        "- The encodings of two images of different persons are very different\n",
        "\n",
        "The triplet loss function formalizes this, and tries to \"push\" the encodings of two images of the same person (Anchor and Positive) closer together, while \"pulling\" the encodings of two images of different persons (Anchor, Negative) further apart.\n",
        "\n",
        "<img src=\"//github.com/enggen/Deep-Learning-Coursera/raw/1407e19c98833d2686a0748db26b594f3102301e/Convolutional Neural Networks/Week4/Face Recognition/images/triplet_comparison.png\" style=\"width:280px;height:150px;\">\n",
        "<br>\n",
        "<caption><center> <u> <font color='purple'> <br> </u> <font color='purple'> In the next part, we will call the pictures from left to right: Anchor (A), Positive (P), Negative (N)  </center></caption>"
      ]
    },
    {
      "cell_type": "markdown",
      "metadata": {
        "id": "befDNuayekYL"
      },
      "source": [
        "\n",
        "\n",
        "### 1.2 - The Triplet Loss\n",
        "\n",
        "For an image $x$, we denote its encoding $f(x)$, where $f$ is the function computed by the neural network.\n",
        "\n",
        "<img src=\"//github.com/enggen/Deep-Learning-Coursera/raw/1407e19c98833d2686a0748db26b594f3102301e/Convolutional Neural Networks/Week4/Face Recognition/images/f_x.png\" style=\"width:380px;height:150px;\">\n",
        "\n",
        "<!--\n",
        "We will also add a normalization step at the end of our model so that $\\mid \\mid f(x) \\mid \\mid_2 = 1$ (means the vector of encoding should be of norm 1).\n",
        "!-->\n",
        "\n",
        "Training will use triplets of images $(A, P, N)$:  \n",
        "\n",
        "- A is an \"Anchor\" image--a picture of a person.\n",
        "- P is a \"Positive\" image--a picture of the same person as the Anchor image.\n",
        "- N is a \"Negative\" image--a picture of a different person than the Anchor image.\n",
        "\n",
        "These triplets are picked from our training dataset. We will write $(A^{(i)}, P^{(i)}, N^{(i)})$ to denote the $i$-th training example.\n",
        "\n",
        "You'd like to make sure that an image $A^{(i)}$ of an individual is closer to the Positive $P^{(i)}$ than to the Negative image $N^{(i)}$) by at least a margin $\\alpha$:\n",
        "\n",
        "$$\\mid \\mid f(A^{(i)}) - f(P^{(i)}) \\mid \\mid_2^2 + \\alpha < \\mid \\mid f(A^{(i)}) - f(N^{(i)}) \\mid \\mid_2^2$$\n",
        "\n",
        "You would thus like to minimize the following \"triplet cost\":\n",
        "\n",
        "$$\\mathcal{J} = \\sum^{N}_{i=1} \\large[ \\small \\underbrace{\\mid \\mid f(A^{(i)}) - f(P^{(i)}) \\mid \\mid_2^2}_\\text{(1)} - \\underbrace{\\mid \\mid f(A^{(i)}) - f(N^{(i)}) \\mid \\mid_2^2}_\\text{(2)} + \\alpha \\large ] \\small_+ \\tag{3}$$\n",
        "\n",
        "Here, we are using the notation \"$[z]_+$\" to denote $max(z,0)$.  \n",
        "\n",
        "Notes:\n",
        "- The term (1) is the squared distance between the anchor \"A\" and the positive \"P\" for a given triplet; you want this to be small.\n",
        "- The term (2) is the squared distance between the anchor \"A\" and the negative \"N\" for a given triplet, you want this to be relatively large, so it thus makes sense to have a minus sign preceding it.\n",
        "- $\\alpha$ is called the margin. It is a hyperparameter that you should pick manually. We will use $\\alpha = 0.2$.\n",
        "\n",
        "Most implementations also normalize the encoding vectors  to have norm equal one (i.e., $\\mid \\mid f(img)\\mid \\mid_2$=1); you won't have to worry about that here.\n",
        "\n",
        "**Exercise**: Implement the triplet loss as defined by formula (3). Here are the 4 steps:\n",
        "1. Compute the distance between the encodings of \"anchor\" and \"positive\": $\\mid \\mid f(A^{(i)}) - f(P^{(i)}) \\mid \\mid_2^2$\n",
        "2. Compute the distance between the encodings of \"anchor\" and \"negative\": $\\mid \\mid f(A^{(i)}) - f(N^{(i)}) \\mid \\mid_2^2$\n",
        "3. Compute the formula per training example: $ \\mid \\mid f(A^{(i)}) - f(P^{(i)}) \\mid - \\mid \\mid f(A^{(i)}) - f(N^{(i)}) \\mid \\mid_2^2 + \\alpha$\n",
        "3. Compute the full formula by taking the max with zero and summing over the training examples:\n",
        "$$\\mathcal{J} = \\sum^{N}_{i=1} \\large[ \\small \\mid \\mid f(A^{(i)}) - f(P^{(i)}) \\mid \\mid_2^2 - \\mid \\mid f(A^{(i)}) - f(N^{(i)}) \\mid \\mid_2^2+ \\alpha \\large ] \\small_+ \\tag{3}$$\n",
        "\n",
        "Useful functions: `tf.reduce_sum()`, `tf.square()`, `tf.subtract()`, `tf.add()`, `tf.reduce_mean`, `tf.maximum()`."
      ]
    },
    {
      "cell_type": "code",
      "execution_count": 20,
      "metadata": {
        "id": "WUrgBCMcekYM"
      },
      "outputs": [],
      "source": [
        "# GRADED FUNCTION: triplet_loss\n",
        "\n",
        "def triplet_loss(y_true, y_pred, alpha = 0.2):\n",
        "    \"\"\"\n",
        "    Implementation of the triplet loss as defined by formula (3)\n",
        "\n",
        "    Arguments:\n",
        "    y_true -- true labels, required when you define a loss in Keras, you don't need it in this function.\n",
        "    y_pred -- python list containing three objects:\n",
        "            anchor -- the encodings for the anchor images, of shape (None, 128)\n",
        "            positive -- the encodings for the positive images, of shape (None, 128)\n",
        "            negative -- the encodings for the negative images, of shape (None, 128)\n",
        "\n",
        "    Returns:\n",
        "    loss -- real number, value of the loss\n",
        "    \"\"\"\n",
        "\n",
        "    anchor, positive, negative = y_pred[0], y_pred[1], y_pred[2]\n",
        "\n",
        "    ### START CODE HERE ### (≈ 4 lines)\n",
        "    # Step 1: Compute the (encoding) distance between the anchor and the positive\n",
        "    pos_dist = tf.reduce_sum(tf.square(tf.subtract(anchor, positive)))\n",
        "    # Step 2: Compute the (encoding) distance between the anchor and the negative\n",
        "    neg_dist = tf.reduce_sum(tf.square(tf.subtract(anchor, negative)))\n",
        "    # Step 3: subtract the two previous distances and add alpha.\n",
        "    basic_loss = tf.add(tf.subtract(pos_dist, neg_dist), alpha)\n",
        "    # Step 4: Take the maximum of basic_loss and 0.0. Sum over the training examples.\n",
        "    loss = tf.maximum(tf.reduce_mean(basic_loss), 0.0)\n",
        "    ### END CODE HERE ###\n",
        "\n",
        "    return loss"
      ]
    },
    {
      "cell_type": "code",
      "execution_count": 7,
      "metadata": {
        "colab": {
          "base_uri": "https://localhost:8080/"
        },
        "id": "TOO0syfFekYP",
        "outputId": "7140c69d-aa5b-43e1-a97b-392b3604761b"
      },
      "outputs": [
        {
          "output_type": "stream",
          "name": "stdout",
          "text": [
            "loss = 350.02734\n"
          ]
        }
      ],
      "source": [
        "# with tf.Session() as test:\n",
        "with tf.compat.v1.Session() as test:\n",
        "#    tf.set_random_seed(1)\n",
        "    tf.random.set_seed(1)\n",
        "    y_true = (None, None, None)\n",
        "    y_pred = (tf.random.normal([3, 128], mean=6, stddev=0.1, seed = 1),\n",
        "              tf.random.normal([3, 128], mean=1, stddev=1, seed = 1),\n",
        "              tf.random.normal([3, 128], mean=3, stddev=4, seed = 1))\n",
        "    loss = triplet_loss(y_true, y_pred)\n",
        "\n",
        "    print(\"loss = \" + str(loss.eval()))\n",
        "\n"
      ]
    },
    {
      "cell_type": "markdown",
      "metadata": {
        "id": "OZL-BTeGekYS"
      },
      "source": [
        "**Expected Output**:\n",
        "\n",
        "<table>\n",
        "    <tr>\n",
        "        <td>\n",
        "            **loss**\n",
        "        </td>\n",
        "        <td>\n",
        "           350.026\n",
        "        </td>\n",
        "    </tr>\n",
        "\n",
        "</table>"
      ]
    },
    {
      "cell_type": "markdown",
      "metadata": {
        "id": "VQoiSWXyekYT"
      },
      "source": [
        "## 2 - Loading the trained model\n",
        "\n",
        "FaceNet is trained by minimizing the triplet loss. But since training requires a lot of data and a lot of computation, we won't train it from scratch here. Instead, we load a previously trained model. Load a model using the following cell; this might take a couple of minutes to run."
      ]
    },
    {
      "cell_type": "code",
      "execution_count": 21,
      "metadata": {
        "id": "V3_KBS1iekYU"
      },
      "outputs": [],
      "source": [
        "FRmodel.compile(optimizer = 'adam', loss = triplet_loss, metrics = ['accuracy'])\n",
        "load_weights_from_FaceNet(FRmodel)"
      ]
    },
    {
      "cell_type": "markdown",
      "metadata": {
        "id": "oemfQTSmekYX"
      },
      "source": [
        "Here're some examples of distances between the encodings between three individuals:\n",
        "\n",
        "<img src=\"//github.com/enggen/Deep-Learning-Coursera/raw/1407e19c98833d2686a0748db26b594f3102301e/Convolutional Neural Networks/Week4/Face Recognition/images/distance_matrix.png\" style=\"width:380px;height:200px;\">\n",
        "<br>\n",
        "<caption><center> <u> <font color='purple'> </u> <br>  <font color='purple'> Example of distance outputs between three individuals' encodings</center></caption>\n",
        "\n",
        "Let's now use this model to perform face verification and face recognition!"
      ]
    },
    {
      "cell_type": "markdown",
      "metadata": {
        "id": "FSQJZkyWekYX"
      },
      "source": [
        "## 3 - Applying the model"
      ]
    },
    {
      "cell_type": "markdown",
      "metadata": {
        "id": "3vI2FJ0tekYY"
      },
      "source": [
        "Back to the Happy House! Residents are living blissfully since you implemented happiness recognition for the house in an earlier assignment.  \n",
        "\n",
        "However, several issues keep coming up: The Happy House became so happy that every happy person in the neighborhood is coming to hang out in your living room. It is getting really crowded, which is having a negative impact on the residents of the house. All these random happy people are also eating all your food.\n",
        "\n",
        "So, you decide to change the door entry policy, and not just let random happy people enter anymore, even if they are happy! Instead, you'd like to build a **Face verification** system so as to only let people from a specified list come in. To get admitted, each person has to swipe an ID card (identification card) to identify themselves at the door. The face recognition system then checks that they are who they claim to be."
      ]
    },
    {
      "cell_type": "markdown",
      "metadata": {
        "id": "HUDhPZ_TekYY"
      },
      "source": [
        "### 3.1 - Face Verification\n",
        "\n",
        "Let's build a database containing one encoding vector for each person allowed to enter the happy house. To generate the encoding we use `img_to_encoding(image_path, model)` which basically runs the forward propagation of the model on the specified image.\n",
        "\n",
        "Run the following code to build the database (represented as a python dictionary). This database maps each person's name to a 128-dimensional encoding of their face."
      ]
    },
    {
      "cell_type": "code",
      "execution_count": 22,
      "metadata": {
        "id": "9wz8eTUQekYZ"
      },
      "outputs": [],
      "source": [
        "database = {}\n",
        "database[\"danielle\"] = img_to_encoding(\"images/danielle.png\", FRmodel)\n",
        "database[\"younes\"] = img_to_encoding(\"images/younes.jpg\", FRmodel)\n",
        "database[\"tian\"] = img_to_encoding(\"images/tian.jpg\", FRmodel)\n",
        "database[\"andrew\"] = img_to_encoding(\"images/andrew.jpg\", FRmodel)\n",
        "database[\"kian\"] = img_to_encoding(\"images/kian.jpg\", FRmodel)\n",
        "database[\"dan\"] = img_to_encoding(\"images/dan.jpg\", FRmodel)\n",
        "database[\"sebastiano\"] = img_to_encoding(\"images/sebastiano.jpg\", FRmodel)\n",
        "database[\"bertrand\"] = img_to_encoding(\"images/bertrand.jpg\", FRmodel)\n",
        "database[\"kevin\"] = img_to_encoding(\"images/kevin.jpg\", FRmodel)\n",
        "database[\"felix\"] = img_to_encoding(\"images/felix.jpg\", FRmodel)\n",
        "database[\"benoit\"] = img_to_encoding(\"images/benoit.jpg\", FRmodel)\n",
        "database[\"arnaud\"] = img_to_encoding(\"images/arnaud.jpg\", FRmodel)\n",
        "database[\"ravindu\"] = img_to_encoding(\"images/ravindu.jpg\", FRmodel)"
      ]
    },
    {
      "cell_type": "markdown",
      "metadata": {
        "id": "JQmV-qpKekYb"
      },
      "source": [
        "Now, when someone shows up at your front door and swipes their ID card (thus giving you their name), you can look up their encoding in the database, and use it to check if the person standing at the front door matches the name on the ID.\n",
        "\n",
        "**Exercise**: Implement the verify() function which checks if the front-door camera picture (`image_path`) is actually the person called \"identity\". You will have to go through the following steps:\n",
        "1. Compute the encoding of the image from image_path\n",
        "2. Compute the distance about this encoding and the encoding of the identity image stored in the database\n",
        "3. Open the door if the distance is less than 0.7, else do not open.\n",
        "\n",
        "As presented above, you should use the L2 distance (np.linalg.norm). (Note: In this implementation, compare the L2 distance, not the square of the L2 distance, to the threshold 0.7.)"
      ]
    },
    {
      "cell_type": "code",
      "execution_count": 23,
      "metadata": {
        "id": "loLof3vRekYc"
      },
      "outputs": [],
      "source": [
        "# GRADED FUNCTION: verify\n",
        "\n",
        "def verify(image_path, identity, database, model):\n",
        "    \"\"\"\n",
        "    Function that verifies if the person on the \"image_path\" image is \"identity\".\n",
        "\n",
        "    Arguments:\n",
        "    image_path -- path to an image\n",
        "    identity -- string, name of the person you'd like to verify the identity. Has to be a resident of the Happy house.\n",
        "    database -- python dictionary mapping names of allowed people's names (strings) to their encodings (vectors).\n",
        "    model -- your Inception model instance in Keras\n",
        "\n",
        "    Returns:\n",
        "    dist -- distance between the image_path and the image of \"identity\" in the database.\n",
        "    door_open -- True, if the door should open. False otherwise.\n",
        "    \"\"\"\n",
        "\n",
        "    ### START CODE HERE ###\n",
        "\n",
        "    # Step 1: Compute the encoding for the image. Use img_to_encoding() see example above. (≈ 1 line)\n",
        "    encoding = img_to_encoding(image_path, model)\n",
        "\n",
        "    # Step 2: Compute distance with identity's image (≈ 1 line)\n",
        "    dist = np.linalg.norm(encoding-database[identity])\n",
        "\n",
        "    # Step 3: Open the door if dist < 0.7, else don't open (≈ 3 lines)\n",
        "    if dist < 0.7:\n",
        "        print(\"It's \" + str(identity) + \", welcome home!\")\n",
        "        door_open = True\n",
        "    else:\n",
        "        print(\"It's not \" + str(identity) + \", please go away\")\n",
        "        door_open = False\n",
        "\n",
        "    ### END CODE HERE ###\n",
        "\n",
        "    return dist, door_open"
      ]
    },
    {
      "cell_type": "markdown",
      "metadata": {
        "id": "OF95_hYDekYi"
      },
      "source": [
        "Younes is trying to enter the Happy House and the camera takes a picture of him (\"images/camera_0.jpg\"). Let's run your verification algorithm on this picture:\n",
        "\n",
        "<img src=\"//github.com/enggen/Deep-Learning-Coursera/raw/1407e19c98833d2686a0748db26b594f3102301e/Convolutional Neural Networks/Week4/Face Recognition/images/camera_0.jpg\" style=\"width:100px;height:100px;\">"
      ]
    },
    {
      "cell_type": "code",
      "execution_count": 24,
      "metadata": {
        "colab": {
          "base_uri": "https://localhost:8080/"
        },
        "id": "E5d4AVPzekYi",
        "outputId": "c3c0db7c-7c82-4b95-9412-8bbc9b614eed"
      },
      "outputs": [
        {
          "output_type": "stream",
          "name": "stdout",
          "text": [
            "It's younes, welcome home!\n"
          ]
        },
        {
          "output_type": "execute_result",
          "data": {
            "text/plain": [
              "(0.6671397, True)"
            ]
          },
          "metadata": {},
          "execution_count": 24
        }
      ],
      "source": [
        "verify(\"images/camera_0.jpg\", \"younes\", database, FRmodel)"
      ]
    },
    {
      "cell_type": "markdown",
      "source": [
        "Younes is trying to enter the Happy House and the camera takes a picture of him (\"images/ravindu2.jpg\"). Let's run your verification algorithm on this picture:\n",
        "\n",
        "![ravindu2.jpg](data:image/jpeg;base64,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)"
      ],
      "metadata": {
        "id": "KPZYHsbcD4tJ"
      }
    },
    {
      "cell_type": "code",
      "source": [
        "verify(\"images/ravindu2.jpg\", \"ravindu\", database, FRmodel)"
      ],
      "metadata": {
        "colab": {
          "base_uri": "https://localhost:8080/"
        },
        "id": "7VtH1WPhED0M",
        "outputId": "41147e70-8d5e-4bfb-9016-b33b8237aa9b"
      },
      "execution_count": 26,
      "outputs": [
        {
          "output_type": "stream",
          "name": "stdout",
          "text": [
            "It's ravindu, welcome home!\n"
          ]
        },
        {
          "output_type": "execute_result",
          "data": {
            "text/plain": [
              "(0.5663962, True)"
            ]
          },
          "metadata": {},
          "execution_count": 26
        }
      ]
    },
    {
      "cell_type": "markdown",
      "metadata": {
        "collapsed": true,
        "id": "iyn2aYMqekYl"
      },
      "source": [
        "**Expected Output**:\n",
        "\n",
        "<table>\n",
        "    <tr>\n",
        "        <td>\n",
        "            **It's younes, welcome home!**\n",
        "        </td>\n",
        "        <td>\n",
        "           (0.65939283, True)\n",
        "        </td>\n",
        "    </tr>\n",
        "\n",
        "</table>"
      ]
    },
    {
      "cell_type": "markdown",
      "metadata": {
        "collapsed": true,
        "id": "Vjk_QdZTekYm"
      },
      "source": [
        "Benoit, who broke the aquarium last weekend, has been banned from the house and removed from the database. He stole Kian's ID card and came back to the house to try to present himself as Kian. The front-door camera took a picture of Benoit (\"images/camera_2.jpg). Let's run the verification algorithm to check if benoit can enter.\n",
        "<img src=\"images/camera_2.jpg\" style=\"width:100px;height:100px;\">"
      ]
    },
    {
      "cell_type": "code",
      "execution_count": 27,
      "metadata": {
        "colab": {
          "base_uri": "https://localhost:8080/"
        },
        "id": "hAfG7SbQekYm",
        "outputId": "c99ef8ed-d94c-4997-afb1-5bb7a08f8a3b"
      },
      "outputs": [
        {
          "output_type": "stream",
          "name": "stdout",
          "text": [
            "It's not kian, please go away\n"
          ]
        },
        {
          "output_type": "execute_result",
          "data": {
            "text/plain": [
              "(0.85868883, False)"
            ]
          },
          "metadata": {},
          "execution_count": 27
        }
      ],
      "source": [
        "verify(\"images/camera_2.jpg\", \"kian\", database, FRmodel)"
      ]
    },
    {
      "cell_type": "code",
      "source": [
        "verify(\"images/ravindu1.jpg\", \"ravindu\", database, FRmodel)"
      ],
      "metadata": {
        "colab": {
          "base_uri": "https://localhost:8080/"
        },
        "id": "eIFNIk4qFqSC",
        "outputId": "a50f77fd-3202-4fd7-fba3-99362549690b"
      },
      "execution_count": 28,
      "outputs": [
        {
          "output_type": "stream",
          "name": "stdout",
          "text": [
            "It's not ravindu, please go away\n"
          ]
        },
        {
          "output_type": "execute_result",
          "data": {
            "text/plain": [
              "(0.9153695, False)"
            ]
          },
          "metadata": {},
          "execution_count": 28
        }
      ]
    },
    {
      "cell_type": "markdown",
      "metadata": {
        "id": "v60OtVDGekYp"
      },
      "source": [
        "**Expected Output**:\n",
        "\n",
        "<table>\n",
        "    <tr>\n",
        "        <td>\n",
        "            **It's not kian, please go away**\n",
        "        </td>\n",
        "        <td>\n",
        "           (0.86224014, False)\n",
        "        </td>\n",
        "    </tr>\n",
        "\n",
        "</table>"
      ]
    },
    {
      "cell_type": "markdown",
      "metadata": {
        "id": "oCwATPgaekYp"
      },
      "source": [
        "### 3.2 - Face Recognition\n",
        "\n",
        "Your face verification system is mostly working well. But since Kian got his ID card stolen, when he came back to the house that evening he couldn't get in!\n",
        "\n",
        "To reduce such shenanigans, you'd like to change your face verification system to a face recognition system. This way, no one has to carry an ID card anymore. An authorized person can just walk up to the house, and the front door will unlock for them!\n",
        "\n",
        "You'll implement a face recognition system that takes as input an image, and figures out if it is one of the authorized persons (and if so, who). Unlike the previous face verification system, we will no longer get a person's name as another input.\n",
        "\n",
        "**Exercise**: Implement `who_is_it()`. You will have to go through the following steps:\n",
        "1. Compute the target encoding of the image from image_path\n",
        "2. Find the encoding from the database that has smallest distance with the target encoding.\n",
        "    - Initialize the `min_dist` variable to a large enough number (100). It will help you keep track of what is the closest encoding to the input's encoding.\n",
        "    - Loop over the database dictionary's names and encodings. To loop use `for (name, db_enc) in database.items()`.\n",
        "        - Compute L2 distance between the target \"encoding\" and the current \"encoding\" from the database.\n",
        "        - If this distance is less than the min_dist, then set min_dist to dist, and identity to name."
      ]
    },
    {
      "cell_type": "code",
      "execution_count": 29,
      "metadata": {
        "id": "71ruCyQAekYq"
      },
      "outputs": [],
      "source": [
        "# GRADED FUNCTION: who_is_it\n",
        "\n",
        "def who_is_it(image_path, database, model):\n",
        "    \"\"\"\n",
        "    Implements face recognition for the happy house by finding who is the person on the image_path image.\n",
        "\n",
        "    Arguments:\n",
        "    image_path -- path to an image\n",
        "    database -- database containing image encodings along with the name of the person on the image\n",
        "    model -- your Inception model instance in Keras\n",
        "\n",
        "    Returns:\n",
        "    min_dist -- the minimum distance between image_path encoding and the encodings from the database\n",
        "    identity -- string, the name prediction for the person on image_path\n",
        "    \"\"\"\n",
        "\n",
        "    ### START CODE HERE ###\n",
        "\n",
        "    ## Step 1: Compute the target \"encoding\" for the image. Use img_to_encoding() see example above. ## (≈ 1 line)\n",
        "    encoding = img_to_encoding(image_path, model)\n",
        "\n",
        "    ## Step 2: Find the closest encoding ##\n",
        "\n",
        "    # Initialize \"min_dist\" to a large value, say 100 (≈1 line)\n",
        "    min_dist = 100\n",
        "\n",
        "    #save L2 distances to interpret results\n",
        "    output_data = {}\n",
        "\n",
        "    # Loop over the database dictionary's names and encodings.\n",
        "    for (name, db_enc) in database.items():\n",
        "\n",
        "        # Compute L2 distance between the target \"encoding\" and the current \"emb\" from the database. (≈ 1 line)\n",
        "        dist = np.linalg.norm(encoding-db_enc)\n",
        "\n",
        "        #save L2 distances to interpret results\n",
        "        output_data[f'{name}'] = dist\n",
        "\n",
        "        # If this distance is less than the min_dist, then set min_dist to dist, and identity to name. (≈ 3 lines)\n",
        "        if dist < min_dist:\n",
        "            min_dist = dist\n",
        "            identity = name\n",
        "\n",
        "    ### END CODE HERE ###\n",
        "\n",
        "    if min_dist > 0.7:\n",
        "        print(\"Not in the database.\")\n",
        "    else:\n",
        "        print (\"it's \" + str(identity) + \", the distance is \" + str(min_dist))\n",
        "\n",
        "    return min_dist, identity, output_data"
      ]
    },
    {
      "cell_type": "markdown",
      "metadata": {
        "id": "-fC65aokekYu"
      },
      "source": [
        "Younes is at the front-door and the camera takes a picture of him (\"images/camera_0.jpg\"). Let's see if your who_it_is() algorithm identifies Younes."
      ]
    },
    {
      "cell_type": "code",
      "execution_count": 30,
      "metadata": {
        "colab": {
          "base_uri": "https://localhost:8080/"
        },
        "id": "3SHxih8cekYu",
        "outputId": "0b2f9c8a-da8c-4e47-bdd5-1f837192aa47",
        "scrolled": false
      },
      "outputs": [
        {
          "output_type": "stream",
          "name": "stdout",
          "text": [
            "it's younes, the distance is 0.6671397\n"
          ]
        }
      ],
      "source": [
        "output = who_is_it(\"images/camera_0.jpg\", database, FRmodel)"
      ]
    },
    {
      "cell_type": "code",
      "source": [
        "output = who_is_it(\"images/ravindu2.jpg\", database, FRmodel)"
      ],
      "metadata": {
        "colab": {
          "base_uri": "https://localhost:8080/"
        },
        "id": "6gk-ldJwF6zT",
        "outputId": "f453febc-45ac-455d-b9a3-eb08813d6dfe"
      },
      "execution_count": 32,
      "outputs": [
        {
          "output_type": "stream",
          "name": "stdout",
          "text": [
            "it's ravindu, the distance is 0.5663962\n"
          ]
        }
      ]
    },
    {
      "cell_type": "markdown",
      "metadata": {
        "id": "7yNMrp3sekYx"
      },
      "source": [
        "**Expected Output**:\n",
        "\n",
        "<table>\n",
        "    <tr>\n",
        "        <td>\n",
        "            **it's younes, the distance is 0.659393**\n",
        "        </td>\n",
        "        <td>\n",
        "           (0.65939283, 'younes')\n",
        "        </td>\n",
        "    </tr>\n",
        "\n",
        "</table>"
      ]
    },
    {
      "cell_type": "code",
      "execution_count": 33,
      "metadata": {
        "colab": {
          "base_uri": "https://localhost:8080/"
        },
        "id": "utngoqPGASPv",
        "outputId": "85acdbd2-25ec-40c1-c12f-77d2bcbe2670"
      },
      "outputs": [
        {
          "output_type": "execute_result",
          "data": {
            "text/plain": [
              "{'danielle': 0.9640528,\n",
              " 'younes': 1.0678468,\n",
              " 'tian': 0.75466996,\n",
              " 'andrew': 0.8524595,\n",
              " 'kian': 0.96241844,\n",
              " 'dan': 0.9329163,\n",
              " 'sebastiano': 0.7952406,\n",
              " 'bertrand': 1.0349699,\n",
              " 'kevin': 0.9941259,\n",
              " 'felix': 0.7239405,\n",
              " 'benoit': 0.6760763,\n",
              " 'arnaud': 0.95190054,\n",
              " 'ravindu': 0.5663962}"
            ]
          },
          "metadata": {},
          "execution_count": 33
        }
      ],
      "source": [
        "#dictionary contains the L2 distance between target image encoding and database embeddings of other images\n",
        "output[2]"
      ]
    },
    {
      "cell_type": "markdown",
      "metadata": {
        "id": "YZP2jy5PekYy"
      },
      "source": [
        "You can change \"`camera_0.jpg`\" (picture of younes) to \"`camera_1.jpg`\" (picture of bertrand) and see the result."
      ]
    },
    {
      "cell_type": "markdown",
      "metadata": {
        "id": "4PmywOIMekYz"
      },
      "source": [
        "Your Happy House is running well. It only lets in authorized persons, and people don't need to carry an ID card around anymore!\n",
        "\n",
        "You've now seen how a state-of-the-art face recognition system works.\n",
        "\n",
        "Although we won't implement it here, here're some ways to further improve the algorithm:\n",
        "- Put more images of each person (under different lighting conditions, taken on different days, etc.) into the database. Then given a new image, compare the new face to multiple pictures of the person. This would increae accuracy.\n",
        "- Crop the images to just contain the face, and less of the \"border\" region around the face. This preprocessing removes some of the irrelevant pixels around the face, and also makes the algorithm more robust.\n"
      ]
    },
    {
      "cell_type": "markdown",
      "metadata": {
        "id": "JIeHHu5HekYz"
      },
      "source": [
        "<font color='blue'>\n",
        "**What you should remember**:\n",
        "- Face verification solves an easier 1:1 matching problem; face recognition addresses a harder 1:K matching problem.\n",
        "- The triplet loss is an effective loss function for training a neural network to learn an encoding of a face image.\n",
        "- The same encoding can be used for verification and recognition. Measuring distances between two images' encodings allows you to determine whether they are pictures of the same person."
      ]
    },
    {
      "cell_type": "markdown",
      "metadata": {
        "id": "sqA54eC4ekY0"
      },
      "source": [
        "Congrats on finishing this assignment!\n"
      ]
    },
    {
      "cell_type": "markdown",
      "metadata": {
        "id": "vs5o31H-ekY1"
      },
      "source": [
        "### References:\n",
        "\n",
        "- Florian Schroff, Dmitry Kalenichenko, James Philbin (2015). [FaceNet: A Unified Embedding for Face Recognition and Clustering](https://arxiv.org/pdf/1503.03832.pdf)\n",
        "- Yaniv Taigman, Ming Yang, Marc'Aurelio Ranzato, Lior Wolf (2014). [DeepFace: Closing the gap to human-level performance in face verification](https://research.fb.com/wp-content/uploads/2016/11/deepface-closing-the-gap-to-human-level-performance-in-face-verification.pdf)\n",
        "- The pretrained model we use is inspired by Victor Sy Wang's implementation and was loaded using his code: https://github.com/iwantooxxoox/Keras-OpenFace.\n",
        "- Our implementation also took a lot of inspiration from the official FaceNet github repository: https://github.com/davidsandberg/facenet\n"
      ]
    }
  ],
  "metadata": {
    "accelerator": "GPU",
    "colab": {
      "provenance": []
    },
    "coursera": {
      "course_slug": "convolutional-neural-networks",
      "graded_item_id": "IaknP",
      "launcher_item_id": "5UMr4"
    },
    "kernelspec": {
      "display_name": "Python 3",
      "language": "python",
      "name": "python3"
    },
    "language_info": {
      "codemirror_mode": {
        "name": "ipython",
        "version": 3
      },
      "file_extension": ".py",
      "mimetype": "text/x-python",
      "name": "python",
      "nbconvert_exporter": "python",
      "pygments_lexer": "ipython3",
      "version": "3.8.8"
    }
  },
  "nbformat": 4,
  "nbformat_minor": 0
}